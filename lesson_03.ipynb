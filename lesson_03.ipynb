{
 "cells": [
  {
   "cell_type": "markdown",
   "metadata": {},
   "source": [
    "# Урок 3 Линейные преобразования"
   ]
  },
  {
   "cell_type": "markdown",
   "metadata": {},
   "source": [
    "__1.__ Найти собственные векторы и собственные значения для линейного оператора, заданного матрицей\n",
    "\n",
    "$$A=\\begin{pmatrix}\n",
    "-1 & -6\\\\ \n",
    "2 & 6\n",
    "\\end{pmatrix}.$$"
   ]
  },
  {
   "cell_type": "markdown",
   "metadata": {},
   "source": [
    "$$ \\begin{vmatrix}-1-\\lambda & -6 \\\\ 2 & 6-\\lambda\\end{vmatrix} = 0$$\n",
    "\n",
    "$$ -(1+\\lambda)(6-\\lambda) + 12 = 0 $$\n",
    "\n",
    "$$ \\lambda^2 - 5 \\lambda + 6 = 0 $$\n",
    "\n",
    "$$ \\lambda_1 = 3, \\lambda_2 = 2 $$"
   ]
  },
  {
   "cell_type": "markdown",
   "metadata": {},
   "source": [
    "$$ \\lambda_1 = 3 \\implies \\begin{cases} -x_1 - 6 x_2 = 3 x_1 \\\\ 2 x_1 + 6 x_2 = 3 x_2 \\end{cases} \\implies x_1 = -\\frac{3}{2} x_2 \\implies \\vec{v_1} = (-3, 2)$$\n",
    "\n",
    "$$ \\lambda_2 = 2 \\implies \\begin{cases} -x_1 - 6 x_2 = 2 x_1 \\\\ 2 x_1 + 6 x_2 = 2 x_2 \\end{cases} \\implies x_1 = -2 x_2 \\implies \\vec{v_2} = (-2, 1)$$"
   ]
  },
  {
   "cell_type": "markdown",
   "metadata": {},
   "source": [
    "__2.__ Дан оператор поворота на 180 градусов, задаваемый матрицей \n",
    "\n",
    "$$A=\\begin{pmatrix}\n",
    "-1 & 0\\\\ \n",
    "0 & -1\n",
    "\\end{pmatrix}.$$\n",
    "\n",
    "Показать, что __любой__ вектор является для него собственным."
   ]
  },
  {
   "cell_type": "markdown",
   "metadata": {},
   "source": [
    "$$ A \\vec{x} = -E \\vec{x} = -1 \\cdot \\vec{x} \\implies \\lambda = -1, \\forall \\vec{x} \\in \\mathbb{R}^2$$"
   ]
  },
  {
   "cell_type": "markdown",
   "metadata": {},
   "source": [
    "__3.__ Пусть линейный оператор задан матрицей\n",
    "\n",
    "$$A=\\begin{pmatrix}\n",
    "1 & 1\\\\ \n",
    "-1 & 3\n",
    "\\end{pmatrix}.$$\n",
    "\n",
    "Установить, является ли вектор $x=(1,1)$ собственным вектором этого линейного оператора."
   ]
  },
  {
   "cell_type": "markdown",
   "metadata": {},
   "source": [
    "$$ A \\vec{x} = (2, 2) = 2 \\vec{x} \\implies \\text{Да, является}$$"
   ]
  },
  {
   "cell_type": "markdown",
   "metadata": {},
   "source": [
    "__4.__ Пусть линейный оператор задан матрицей\n",
    "\n",
    "$$A=\\begin{pmatrix}\n",
    "0 & 3 & 0\\\\ \n",
    "3 & 0 & 0\\\\\n",
    "0 & 0 & 3\n",
    "\\end{pmatrix}.$$\n",
    "\n",
    "Установить, является ли вектор $x=(3, -3, -4)$ собственным вектором этого линейного оператора."
   ]
  },
  {
   "cell_type": "markdown",
   "metadata": {},
   "source": [
    "$$ A \\vec{x} = (-9, 9, -12) \\neq \\lambda \\vec{x} ~\\text{так как строки } [A \\vec{x}, \\vec{x}] \\text{ линейно независимы} \\implies \\text{Нет, не является} $$"
   ]
  }
 ],
 "metadata": {
  "kernelspec": {
   "display_name": "Python 3",
   "language": "python",
   "name": "python3"
  },
  "language_info": {
   "codemirror_mode": {
    "name": "ipython",
    "version": 3
   },
   "file_extension": ".py",
   "mimetype": "text/x-python",
   "name": "python",
   "nbconvert_exporter": "python",
   "pygments_lexer": "ipython3",
   "version": "3.6.8"
  }
 },
 "nbformat": 4,
 "nbformat_minor": 2
}
