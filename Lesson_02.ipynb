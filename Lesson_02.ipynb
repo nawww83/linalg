{
 "cells": [
  {
   "cell_type": "markdown",
   "metadata": {},
   "source": [
    "# Урок 2 Матрицы и операции над ними"
   ]
  },
  {
   "cell_type": "code",
   "execution_count": 139,
   "metadata": {},
   "outputs": [],
   "source": [
    "import numpy as np\n",
    "from pprint import pprint as pp"
   ]
  },
  {
   "cell_type": "markdown",
   "metadata": {},
   "source": [
    "## Часть 1"
   ]
  },
  {
   "cell_type": "markdown",
   "metadata": {},
   "source": [
    "Все задания рекомендуется делать вручную, затем проверяя полученные результаты с использованием numpy.\n",
    "\n",
    "__1.__ Установить, какие произведения матриц $AB$ и $BA$ определены, и найти размерности полученных матриц:\n",
    "\n",
    "   а) $A$ — матрица $4\\times 2$, $B$ — матрица $4\\times 2$;\n",
    "    \n",
    "   б) $A$ — матрица $2\\times 5$, $B$ — матрица $5\\times 3$;\n",
    "    \n",
    "   в) $A$ — матрица $8\\times 3$, $B$ — матрица $3\\times 8$;\n",
    "    \n",
    "   г) $A$ — квадратная матрица $4\\times 4$, $B$ — квадратная матрица $4\\times 4$."
   ]
  },
  {
   "cell_type": "markdown",
   "metadata": {},
   "source": [
    "Решение.\n",
    "- а) не определены\n",
    "- б) определено АВ, размерность 2 на 3\n",
    "- в) определены оба, dim(АВ) = 8x8, dim(BA) = 3x3\n",
    "- г) определены оба, размерность 4x4"
   ]
  },
  {
   "cell_type": "markdown",
   "metadata": {},
   "source": [
    "__2.__ Найти сумму и произведение матриц $A=\\begin{pmatrix}\n",
    "1 & -2\\\\ \n",
    "3 & 0\n",
    "\\end{pmatrix}$ и $B=\\begin{pmatrix}\n",
    "4 & -1\\\\ \n",
    "0 & 5\n",
    "\\end{pmatrix}.$"
   ]
  },
  {
   "cell_type": "markdown",
   "metadata": {},
   "source": [
    "$$ A + B = \n",
    "\\begin{pmatrix}\n",
    "5 & -3\\\\\n",
    "3 & 5\n",
    "\\end{pmatrix} $$"
   ]
  },
  {
   "cell_type": "code",
   "execution_count": 140,
   "metadata": {},
   "outputs": [
    {
     "name": "stdout",
     "output_type": "stream",
     "text": [
      "array([[ 1, -2],\n",
      "       [ 3,  0]])\n",
      "array([[ 4, -1],\n",
      "       [ 0,  5]])\n",
      "array([[ 5, -3],\n",
      "       [ 3,  5]])\n"
     ]
    }
   ],
   "source": [
    "A = np.array([[1,-2], [3,0]])\n",
    "B = np.array([[4,-1], [0,5]])\n",
    "pp(A)\n",
    "pp(B)\n",
    "pp(A + B)"
   ]
  },
  {
   "cell_type": "markdown",
   "metadata": {},
   "source": [
    "__3.__ Из закономерностей сложения и умножения матриц на число можно сделать вывод, что матрицы одного размера образуют линейное пространство. Вычислить линейную комбинацию $3A-2B+4C$ для матриц $A=\\begin{pmatrix}\n",
    "1 & 7\\\\ \n",
    "3 & -6\n",
    "\\end{pmatrix}$, $B=\\begin{pmatrix}\n",
    "0 & 5\\\\ \n",
    "2 & -1\n",
    "\\end{pmatrix}$, $C=\\begin{pmatrix}\n",
    "2 & -4\\\\ \n",
    "1 & 1\n",
    "\\end{pmatrix}.$"
   ]
  },
  {
   "cell_type": "markdown",
   "metadata": {},
   "source": [
    "$$ 3A -2B + 4C =  \\begin{pmatrix} 3 & 21 \\\\ 9 & -18 \\end{pmatrix} + \n",
    "\\begin{pmatrix} 0 & -10 \\\\ -4 & 2 \\end{pmatrix} +\n",
    "\\begin{pmatrix} 8 & -16 \\\\ 4 & 4 \\end{pmatrix} = \n",
    "\\begin{pmatrix} 11 & -5 \\\\ 9 & -12 \\end{pmatrix}$$"
   ]
  },
  {
   "cell_type": "code",
   "execution_count": 141,
   "metadata": {},
   "outputs": [
    {
     "data": {
      "text/plain": [
       "array([[ 11,  -5],\n",
       "       [  9, -12]])"
      ]
     },
     "execution_count": 141,
     "metadata": {},
     "output_type": "execute_result"
    }
   ],
   "source": [
    "A = np.array([[1, 7], [3, -6]])\n",
    "B = np.array([[0, 5], [2, -1]])\n",
    "C = np.array([[2, -4], [1, 1]])\n",
    "\n",
    "3*A - 2*B + 4*C"
   ]
  },
  {
   "cell_type": "markdown",
   "metadata": {},
   "source": [
    "__4.__ Дана матрица $A=\\begin{pmatrix}\n",
    "4 & 1\\\\ \n",
    "5 & -2\\\\ \n",
    "2 & 3\n",
    "\\end{pmatrix}$.\n",
    "Вычислить $AA^{T}$ и $A^{T}A$."
   ]
  },
  {
   "cell_type": "markdown",
   "metadata": {},
   "source": [
    "$$ AA^T = \\begin{pmatrix} 17 & 18 & 11 \\\\ 18 & 29 & 4 \\\\ 11 & 4 & 13 \\end{pmatrix} $$\n",
    "$$ A^TA = \\begin{pmatrix} 45 & 0 \\\\ 0 & 14 \\end{pmatrix} $$"
   ]
  },
  {
   "cell_type": "code",
   "execution_count": 142,
   "metadata": {},
   "outputs": [
    {
     "name": "stdout",
     "output_type": "stream",
     "text": [
      "array([[ 4,  1],\n",
      "       [ 5, -2],\n",
      "       [ 2,  3]])\n",
      "array([[17, 18, 11],\n",
      "       [18, 29,  4],\n",
      "       [11,  4, 13]])\n",
      "array([[45,  0],\n",
      "       [ 0, 14]])\n"
     ]
    }
   ],
   "source": [
    "A = np.array([[4, 1], [5, -2], [2, 3]])\n",
    "pp(A)\n",
    "pp(A.dot(A.T))\n",
    "pp(A.T.dot(A))"
   ]
  },
  {
   "cell_type": "markdown",
   "metadata": {},
   "source": [
    "__5*.__ Написать на Python функцию для перемножения двух произвольных матриц, не используя NumPy."
   ]
  },
  {
   "cell_type": "code",
   "execution_count": 143,
   "metadata": {},
   "outputs": [],
   "source": [
    "# Перемножает две матрицы; по честному надо три цикла, но последний тривиален, поэтому - два\n",
    "def dot(A, B):\n",
    "    N = A.shape[0]\n",
    "    M = A.shape[1]\n",
    "    M_ = B.shape[0]\n",
    "    assert(M == M_) # условие сцепления\n",
    "    P = B.shape[1]\n",
    "    out = np.zeros((N, P))\n",
    "    for i in range(N):\n",
    "        for j in range(P):\n",
    "            out[i, j] = np.dot(A[i,:], B[:,j]) # поэлементная сумма произведений\n",
    "    return out"
   ]
  },
  {
   "cell_type": "code",
   "execution_count": 144,
   "metadata": {},
   "outputs": [],
   "source": [
    "B = dot(A, A.T)"
   ]
  },
  {
   "cell_type": "code",
   "execution_count": 145,
   "metadata": {},
   "outputs": [
    {
     "data": {
      "text/plain": [
       "array([[ 17.000,  18.000,  11.000],\n",
       "       [ 18.000,  29.000,  4.000],\n",
       "       [ 11.000,  4.000,  13.000]])"
      ]
     },
     "execution_count": 145,
     "metadata": {},
     "output_type": "execute_result"
    }
   ],
   "source": [
    "B"
   ]
  },
  {
   "cell_type": "code",
   "execution_count": 146,
   "metadata": {},
   "outputs": [],
   "source": [
    "C = dot(A.T, A)"
   ]
  },
  {
   "cell_type": "code",
   "execution_count": 147,
   "metadata": {},
   "outputs": [
    {
     "data": {
      "text/plain": [
       "array([[ 45.000,  0.000],\n",
       "       [ 0.000,  14.000]])"
      ]
     },
     "execution_count": 147,
     "metadata": {},
     "output_type": "execute_result"
    }
   ],
   "source": [
    "C"
   ]
  },
  {
   "cell_type": "markdown",
   "metadata": {},
   "source": [
    "## Часть 2"
   ]
  },
  {
   "cell_type": "markdown",
   "metadata": {},
   "source": [
    "Все задания рекомендуется выполнять вручную, затем проверяя полученные результаты с использованием Numpy.\n",
    "\n",
    "__1.__ Вычислить определитель:\n",
    "\n",
    "   a)\n",
    "\n",
    "$$\\begin{vmatrix}\n",
    "sinx & -cosx\\\\ \n",
    "cosx & sinx\n",
    "\\end{vmatrix};$$\n",
    "\n",
    "   б)\n",
    "    \n",
    "$$\\begin{vmatrix}\n",
    "4 & 2 & 3\\\\ \n",
    "0 & 5 & 1\\\\ \n",
    "0 & 0 & 9\n",
    "\\end{vmatrix};$$\n",
    "    \n",
    "   в)\n",
    "\n",
    "$$\\begin{vmatrix}\n",
    "1 & 2 & 3\\\\ \n",
    "4 & 5 & 6\\\\ \n",
    "7 & 8 & 9\n",
    "\\end{vmatrix}.$$"
   ]
  },
  {
   "cell_type": "markdown",
   "metadata": {},
   "source": [
    "- а)\n",
    "$ \\sin^2 + \\cos^2 x = 1 $\n",
    "- б)\n",
    "$ 4 \\cdot 5 \\cdot 9 = 180 $\n",
    "- в)\n",
    "$ 1 \\cdot (5 \\cdot 9 - 6 \\cdot 8) - 2 \\cdot (4 \\cdot 9 - 7 \\cdot 6) + 3 \\cdot (4 \\cdot 8 - 7 \\cdot 5) =\n",
    "-3 + 12 - 9 = 0\n",
    "$"
   ]
  },
  {
   "cell_type": "code",
   "execution_count": 148,
   "metadata": {},
   "outputs": [
    {
     "name": "stdout",
     "output_type": "stream",
     "text": [
      "A = \n",
      "array([[4, 2, 3],\n",
      "       [0, 5, 1],\n",
      "       [0, 0, 9]])\n",
      "det(A) = 180.000000\n",
      "\n",
      "B = \n",
      "array([[1, 2, 3],\n",
      "       [4, 5, 6],\n",
      "       [7, 8, 9]])\n",
      "det(B) = 0.000000\n"
     ]
    }
   ],
   "source": [
    "A = np.array([[4, 2, 3], [0, 5, 1], [0, 0, 9]])\n",
    "print('A = ')\n",
    "pp(A)\n",
    "print('det(A) = {:f}'.format(np.linalg.det(A)))\n",
    "print('')\n",
    "B = np.array([[1, 2, 3], [4, 5, 6], [7, 8, 9]])\n",
    "print('B = ')\n",
    "pp(B)\n",
    "print('det(B) = {:f}'.format(np.linalg.det(B)))"
   ]
  },
  {
   "cell_type": "markdown",
   "metadata": {},
   "source": [
    "__2.__ Определитель матрицы $A$ равен $4$. Найти:\n",
    "\n",
    "   а) $det(A^{2})$;\n",
    "    \n",
    "   б) $det(A^{T})$;\n",
    "    \n",
    "   в) $det(2A)$."
   ]
  },
  {
   "cell_type": "markdown",
   "metadata": {},
   "source": [
    "- а)\n",
    "$ \\det(A^2) = \\det(A \\cdot A) = \\det(A) \\cdot \\det(A) = 4 \\cdot 4 = 16 $\n",
    "- б)\n",
    "$ \\det(A^T) = \\det(A) = 4 $\n",
    "- в)\n",
    "$ \\det(2A) = \\det(2E) \\cdot \\det(A) = 2^3 \\cdot 4 = 32 $,\n",
    "потому что $2 = 2 \\cdot 1 = 2E$, где $E$ - единичная матрица (матрица-единица). Умножение двойки на матрицу можно записать в общем виде как произведение двух матриц и дальше использовать свойство определителя произведения."
   ]
  },
  {
   "cell_type": "markdown",
   "metadata": {},
   "source": [
    "__3.__  Доказать, что матрица\n",
    "\n",
    "$$\\begin{pmatrix}\n",
    "-2 & 7 & -3\\\\ \n",
    "4 & -14 & 6\\\\ \n",
    "-3 & 7 & 13\n",
    "\\end{pmatrix}$$\n",
    "   \n",
    "вырожденная."
   ]
  },
  {
   "cell_type": "markdown",
   "metadata": {},
   "source": [
    "Так как удвоенная первая строка равна второй, взятой с противоположным знаком, то эти строки линейно зависимы и, значит, определитель такой матрицы равен нулю. Отсюда вывод - матрица вырождена."
   ]
  },
  {
   "cell_type": "markdown",
   "metadata": {},
   "source": [
    "__4.__ Найти ранг матрицы:\n",
    "\n",
    "   а) $\\begin{pmatrix}\n",
    "1 & 2 & 3\\\\ \n",
    "1 & 1 & 1\\\\ \n",
    "2 & 3 & 4\n",
    "\\end{pmatrix};$\n",
    "\n",
    "   б) $\\begin{pmatrix}\n",
    "0 & 0 & 2 & 1\\\\ \n",
    "0 & 0 & 2 & 2\\\\ \n",
    "0 & 0 & 4 & 3\\\\ \n",
    "2 & 3 & 5 & 6\n",
    "\\end{pmatrix}.$"
   ]
  },
  {
   "cell_type": "markdown",
   "metadata": {},
   "source": [
    "- а) Выделим в матрице \"костяк\" (\"скелет\")\n",
    "\n",
    "$ \n",
    "{} \\equiv \\begin{pmatrix} 0 & 1 & 2 \\\\ 1 & 1 & 1 \\\\ 0 & 1 & 2 \\end{pmatrix}\n",
    "\\equiv {...}\n",
    "\\equiv \\begin{pmatrix} 0 & 0 & 0 \\\\ 1 & 0 & 0 \\\\ 0 & 1 & 0 \\end{pmatrix}\n",
    "$\n",
    "\n",
    "Вывод: ранг равен двум, так как можно найти ненулевой определитель \"два на два\", а \"три на три\" - нет.\n",
    "\n",
    "-б)\n",
    "Ранг равен трем, так как определитель матрицы \"три на три\", стоящей в правом нижнем углу исходной матрицы, отличен от нуля, а определитель исходной равен нулю (легко вычисляется раскладыванием по первому столбцу)."
   ]
  }
 ],
 "metadata": {
  "kernelspec": {
   "display_name": "Python 3",
   "language": "python",
   "name": "python3"
  },
  "language_info": {
   "codemirror_mode": {
    "name": "ipython",
    "version": 3
   },
   "file_extension": ".py",
   "mimetype": "text/x-python",
   "name": "python",
   "nbconvert_exporter": "python",
   "pygments_lexer": "ipython3",
   "version": "3.6.8"
  }
 },
 "nbformat": 4,
 "nbformat_minor": 2
}
