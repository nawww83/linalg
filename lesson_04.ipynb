{
 "cells": [
  {
   "cell_type": "markdown",
   "metadata": {},
   "source": [
    "# Урок 4 Системы линейных уравнений"
   ]
  },
  {
   "cell_type": "markdown",
   "metadata": {},
   "source": [
    "## Часть 1"
   ]
  },
  {
   "cell_type": "markdown",
   "metadata": {},
   "source": [
    "__1.__ Решить систему уравнений методом Гаусса:\n",
    "\n",
    "$$\\begin{cases}\n",
    "x_{1}+x_{2}-x_{3}-2x_{4}=0, \\\\\n",
    "2x_{1}+x_{2}-x_{3}+x_{4}=-2, \\\\\n",
    "x_{1}+x_{2}-3x_{3}+x_{4}=4.\n",
    "\\end{cases}$$"
   ]
  },
  {
   "cell_type": "markdown",
   "metadata": {},
   "source": [
    "Запишем расширенную матрицу данной СЛАУ\n",
    "$$ \\begin{pmatrix} 1 & 1 & -1 & -2 & 0 \\\\ 2 & 1 & -1 & 1 & -2 \\\\ 1 & 1 & -3 & 1 & 4 \\end{pmatrix} $$\n",
    "\n",
    "Далее последовательно приведем ее к нижне-треугольному виду\n",
    "$$\n",
    "\\begin{pmatrix} 1 & 1 & -1 & -2 & 0 \\\\ 0 & -1 & 1 & 5 & -2 \\\\ 1 & 1 & -3 & 1 & 4 \\end{pmatrix} \\equiv\n",
    "\\begin{pmatrix} 1 & 1 & -1 & -2 & 0 \\\\ 0 & -1 & 1 & 5 & -2 \\\\ 0 & 0 & -2 & 3 & 4 \\end{pmatrix} \\equiv\n",
    "\\begin{pmatrix} 1 & 1 & -1 & -2 & 0 \\\\ 0 & -1 & 1 & 5 & -2 \\\\ 0 & 0 & -2 & 3 & 4 \\end{pmatrix}\n",
    "$$\n",
    "\n",
    "По ненулевому определителю крайней левой подматрицы 3x3 видно, что ранг основной матрицы равен рангу расширенной и равен 3, что меньше числа неизвестных 4, поэтому данная система имеет бесконечно много решений. Для удобства добьемся как можно большего количества нулей расширенной матрицы:\n",
    "\n",
    "$$ \\begin{pmatrix} 1 & 1 & -1 & -2 & 0 \\\\ 0 & -1 & 1 & 5 & -2 \\\\ 0 & 0 & -2 & 3 & 4 \\end{pmatrix} \\equiv\n",
    "\\begin{pmatrix} 1 & 0 & 0 & 3 & -2 \\\\ 0 & -1 & 1 & 5 & -2 \\\\ 0 & 0 & -2 & 3 & 4 \\end{pmatrix} \\equiv\\begin{pmatrix} 1 & 0 & 0 & 3 & -2 \\\\ 0 & -2 & 0 & 13 & 0 \\\\ 0 & 0 & -2 & 3 & 4 \\end{pmatrix}\n",
    "$$\n",
    "\n",
    "В итоге получаем общее решение:\n",
    "\n",
    "$$ \\vec{v} = -2 \\cdot (1,0,1,0) + c \\cdot (-6, 13, 3, 2), ~c \\in \\mathbb{R}. $$"
   ]
  },
  {
   "cell_type": "markdown",
   "metadata": {},
   "source": [
    "__2.__ Проверить на совместность и выяснить, сколько решений будет иметь система линейных уравнений:\n",
    "\n",
    "   а) $\\begin{cases}\n",
    "3x_{1}-x_{2}+x_{3}=4, \\\\\n",
    "2x_{1}-5x_{2}-3x_{3}=-17, \\\\\n",
    "x_{1}+x_{2}-x_{3}=0;\n",
    "\\end{cases}$\n",
    "    \n",
    "   б) $\\begin{cases}\n",
    "2x_{1}-4x_{2}+6x_{3}=1, \\\\\n",
    "x_{1}-2x_{2}+3x_{3}=-2, \\\\\n",
    "3x_{1}-6x_{2}+9x_{3}=5;\n",
    "\\end{cases}$\n",
    "    \n",
    "   в) $\\begin{cases}\n",
    "x_{1}+2x_{2}+5x_{3}=4, \\\\\n",
    "3x_{1}+x_{2}-8x_{3}=-2. \n",
    "\\end{cases}$"
   ]
  },
  {
   "cell_type": "markdown",
   "metadata": {},
   "source": [
    "Запишем расширенную матрицу и методом Гаусса определим ранги расширенной и основной матрицы.\n",
    "- а)\n",
    "$$ \\begin{pmatrix} 1 & 1 & -1 & 0 \\\\ 2 & -5 & -3 & -17 \\\\ 3 & -1 & 1 & 4 \\end{pmatrix} \\equiv\n",
    "\\begin{pmatrix} 1 & 1 & -1 & 0 \\\\ 0 & -7 & -1 & -17 \\\\ 3 & -1 & 1 & 4 \\end{pmatrix} \\equiv\n",
    "\\begin{pmatrix} 1 & 1 & -1 & 0 \\\\ 0 & -7 & -1 & -17 \\\\ 0 & -4 & 4 & 4 \\end{pmatrix} \\equiv\n",
    "\\begin{pmatrix} 1 & 1 & -1 & 0 \\\\ 0 & -7 & -1 & -17 \\\\ 0 & 0 & 32 & 96 \\end{pmatrix}\n",
    "$$\n",
    "\n",
    "Видно, что ранг основной матрицы равен 3 и равен рангу расширенной матрицы и совпадает с числом неизвестных 3, поэтому данная СЛАУ имеет единственное решение $$\\vec{v} = (1, 2, 3)$$\n",
    "- б)\n",
    "$$ \\begin{pmatrix} 1 & -2 & 3 & -2 \\\\ 2 & -4 & 6 & 1 \\\\ 3 & -6 & 9 & 5 \\end{pmatrix} \\equiv\n",
    "\\begin{pmatrix} 1 & -2 & 3 & -2 \\\\ 0 & 0 & 0 & 5 \\\\ 3 & -6 & 9 & 5 \\end{pmatrix} \\equiv\n",
    "\\begin{pmatrix} 1 & -2 & 3 & -2 \\\\ 0 & 0 & 0 & 5 \\\\ 0 & 0 & 0 & 11 \\end{pmatrix}\n",
    "$$\n",
    "\n",
    "Видно, что ранг основной матрицы равен 1, а ранг расширенной равен 2, поэтому СЛАУ несовместная.\n",
    "\n",
    "- в)\n",
    "$$ \\begin{pmatrix} 1 & 2 & 5 & 4 \\\\ 3 & 1 & -8 & -2 \\end{pmatrix} \\equiv\n",
    "\\begin{pmatrix} 1 & 2 & 5 & 4 \\\\ 0 & -5 & -23 & -14 \\end{pmatrix}\n",
    "$$\n",
    "\n",
    "Видно, что ранг основной матрицы равен рангу расширенной и равен 2, но меньше числа неизвестных 3, поэтому СЛАУ имеет бесконечно много решений $$ \\vec{v} = -\\frac{2}{5} \\cdot (4, -7, 0) + c \\cdot (21, -23, 5), ~c \\in \\mathbb{R}. $$"
   ]
  },
  {
   "cell_type": "markdown",
   "metadata": {},
   "source": [
    "__3.__ Проверить на совместность и выяснить, сколько решений будет иметь система линейных уравнений, заданная расширенной матрицей\n",
    "\n",
    "$$\\tilde{A}=\\begin{pmatrix}\n",
    "\\left.\\begin{matrix}\n",
    "1 & 3 & -2 & 4\\\\ \n",
    "0 & 5 & 0 & 1\\\\ \n",
    "0 & 0 & 3 & 0\\\\ \n",
    "0 & 0 & 0 & 2\n",
    "\\end{matrix}\\right|\n",
    "\\begin{matrix}\n",
    "3\\\\ \n",
    "2\\\\\n",
    "4\\\\\n",
    "1\n",
    "\\end{matrix}\n",
    "\\end{pmatrix}.$$"
   ]
  },
  {
   "cell_type": "markdown",
   "metadata": {},
   "source": [
    "Видно, что ранг основной матрицы равен рангу расширенной матрицы и совпадает с числом неизвестных 4, значит СЛАУ совместна и имеет единственное решение."
   ]
  },
  {
   "cell_type": "markdown",
   "metadata": {},
   "source": [
    "__4.__ Дана система линейных уравнений, заданная расширенной матрицей\n",
    "\n",
    "$$\\tilde{A}=\\begin{pmatrix}\n",
    "\\left.\\begin{matrix}\n",
    "1 & 2 & 3\\\\ \n",
    "4 & 5 & 6\\\\ \n",
    "7 & 8 & 9\n",
    "\\end{matrix}\\right|\n",
    "\\begin{matrix}\n",
    "a\\\\ \n",
    "b\\\\\n",
    "c\n",
    "\\end{matrix}\n",
    "\\end{pmatrix}.$$\n",
    "\n",
    "Найти соотношение между параметрами $a$, $b$ и $c$, при которых система является несовместной."
   ]
  },
  {
   "cell_type": "markdown",
   "metadata": {},
   "source": [
    "СЛАУ будет несовместной тогда и только тогда, когда ранг основной матрицы будет меньше ранга расширенной. В нашем случае ранг основной матрицы равен 2 (вспомним нулевой определитель матрицы из [[1,2,3],[4,5,6],[7,8,9]], значит для несовместности СЛАУ достаточно сделать ранг расширенной равным 3. Если (a, b, c) взять пропорционально любому столбцу основной матрицы, то определитель любой подматрицы 3x3, содержащей столбец (a, b, c), будет нулевым и потому ранг расширенной меньше 3. Значит, для несовместности столбец (a, b, c) должен быть линейно-независимым от столбцов основной матрицы (любые два столбца основной матрицы линейно-независимы). Для отыскания такой конфигурации запишем определитель, взяв первые два столбца основной матрицы:\n",
    "\n",
    "$$ \\begin{vmatrix} 1 & 2 & a \\\\ 4 & 5 & b \\\\ 7 & 8 & c \\end{vmatrix} \\neq 0$$\n",
    "\n",
    "Преобразуем определитель, учитывая, что для сравнения с нулем не играет роли константа перед определителем:\n",
    "$$ \\begin{vmatrix} 1 & 2 & a \\\\ 4 & 5 & b \\\\ 7 & 8 & c \\end{vmatrix} \\equiv\n",
    "\\begin{vmatrix} 1 & 0 & a \\\\ 4 & -3 & b \\\\ 7 & -6 & c \\end{vmatrix} \\equiv\n",
    "\\begin{vmatrix} 3 & 0 & a \\\\ 0 & -3 & b \\\\ -3 & -6 & c \\end{vmatrix} \\equiv\n",
    "\\begin{vmatrix} 1 & 0 & a \\\\ 0 & 1 & b \\\\ -1 & 2 & c \\end{vmatrix} \\equiv \n",
    "\\begin{vmatrix} 1 & 0 & a \\\\ 0 & 1 & b \\\\ 0 & 2 & a + c \\end{vmatrix}\n",
    "\\neq 0\n",
    "$$\n",
    "\n",
    "Отсюда следует искомое условие:\n",
    "$$ b \\neq \\frac{a+c}{2} $$"
   ]
  },
  {
   "cell_type": "markdown",
   "metadata": {},
   "source": [
    "## Часть 2"
   ]
  },
  {
   "cell_type": "markdown",
   "metadata": {},
   "source": [
    "__1.__ Решить систему уравнений методом Крамера:\n",
    "\n",
    "   а) $\\begin{cases}\n",
    "x_{1}-2x_{2}=1 \\\\\n",
    "3x_{1}-4x_{2}=7\n",
    "\\end{cases}$\n",
    "    \n",
    "   б) $\\begin{cases}\n",
    "2x_{1}-x_{2}+5x_{3}=10 \\\\\n",
    "x_{1}+x_{2}-3x_{3}=-2 \\\\\n",
    "2x_{1}+4x_{2}+x_{3}=1\n",
    "\\end{cases}$"
   ]
  },
  {
   "cell_type": "markdown",
   "metadata": {},
   "source": [
    "- а)\n",
    "$$ A = \\begin{pmatrix} 1 & -2 \\\\ 3 & -4 \\end{pmatrix}$$\n",
    "\n",
    "$$ \\det{A} = \\begin{vmatrix} 1 & -2 \\\\ 3 & -4 \\end{vmatrix} = -4 + 6 = 2 $$\n",
    "\n",
    "$$ det{A_1} =  \\begin{vmatrix} 1 & -2 \\\\ 7 & -4 \\end{vmatrix} = -4 + 14 = 10 $$\n",
    "\n",
    "$$ det{A_2} =  \\begin{vmatrix} 1 & 1 \\\\ 3 & 7 \\end{vmatrix} = 7 - 3 = 4 $$\n",
    "\n",
    "$$ x_1 = \\frac{\\det {A_1} }{ \\det{A} } = 10 / 2 = 5 $$\n",
    "\n",
    "$$ x_2 = \\frac{\\det {A_2} }{ \\det{A} } = 4 / 2 = 2 $$\n",
    "\n",
    "- б)\n",
    "$$ A = \\begin{pmatrix} 2 & -1 & 5 \\\\ 1 & 1 & -3 \\\\ 2 & 4 & 1 \\end{pmatrix} $$\n",
    "\n",
    "$$ \\det{A} = \\begin{vmatrix} 2 & -1 & 5 \\\\ 1 & 1 & -3 \\\\ 2 & 4 & 1 \\end{vmatrix} = 43 $$\n",
    "\n",
    "$$ \\det{A_1} = \\begin{vmatrix} 10 & -1 & 5 \\\\ -2 & 1 & -3 \\\\ 1 & 4 & 1 \\end{vmatrix} = 86 $$\n",
    "\n",
    "$$ \\det{A_2} = \\begin{vmatrix} 2 & 10 & 5 \\\\ 1 & -2 & -3 \\\\ 2 & 1 & 1 \\end{vmatrix} = -43 $$\n",
    "\n",
    "$$ \\det{A_3} = \\begin{vmatrix} 2 & -1 & 10 \\\\ 1 & 1 & -2 \\\\ 2 & 4 & 1 \\end{vmatrix} = 43 $$\n",
    "\n",
    "$$ x_1 = \\frac{\\det {A_1} }{ \\det{A} } = 86 / 43 = 2 $$\n",
    "\n",
    "$$ x_2 = \\frac{\\det {A_2} }{ \\det{A} } = -43 / 43 = -1 $$\n",
    "\n",
    "$$ x_3 = \\frac{\\det {A_3} }{ \\det{A} } = 43 / 43 = 1 $$"
   ]
  },
  {
   "cell_type": "markdown",
   "metadata": {},
   "source": [
    "__2.__ Найти $L$-матрицу $LU$-разложения для матрицы коэффициентов:\n",
    "\n",
    "   а)$$\\begin{pmatrix}\n",
    "1 & 2 & 4 \\\\ \n",
    "2 & 9 & 12 \\\\ \n",
    "3 & 26 & 30\n",
    "\\end{pmatrix}$$\n",
    "    \n",
    "   б)$$\\begin{pmatrix}\n",
    "1 & 1 & 2 & 4\\\\ \n",
    "2 & 5 & 8 & 9\\\\ \n",
    "3 & 18 & 29 & 18\\\\\n",
    "4 & 22 & 53 & 33\n",
    "\\end{pmatrix}$$"
   ]
  },
  {
   "cell_type": "markdown",
   "metadata": {},
   "source": [
    "- а)\n",
    "$$ \\begin{pmatrix} 1 & 2 & 4 \\\\ 2 & 9 & 12 \\\\ 3 & 26 & 30 \\end{pmatrix} \\equiv \n",
    "\\begin{pmatrix} 1 & 2 & 4 \\\\ 0 & 5 & 4 \\\\ 0 & 20 & 18 \\end{pmatrix} \\equiv \n",
    "\\begin{pmatrix} 1 & 2 & 4 \\\\ 0 & 5 & 4 \\\\ 0 & 0 & 2 \\end{pmatrix}\n",
    "$$\n",
    "\n",
    "Первый шаг дает коэффициенты ${m}_{i1} = (2, 3)$. Второй шаг дает коэффициенты ${m}_{i2} = (4)$, поэтому L-матрица будет следующей:\n",
    "\n",
    "$$ L = \\begin{pmatrix} 1 & 0 & 0 \\\\ 2 & 1 & 0 \\\\ 3 & 4 & 1 \\end{pmatrix} $$\n",
    "\n",
    "- б)\n",
    "$$ \\begin{pmatrix} 1 & 1 & 2 & 4 \\\\ 2 & 5 & 8 & 9 \\\\ 3 & 18 & 29 & 18 \\\\ 4 & 22 & 53 & 33 \\end{pmatrix} \\equiv \n",
    "\\begin{pmatrix} 1 & 1 & 2 & 4 \\\\ 0 & 3 & 4 & 1 \\\\ 0 & 15 & 23 & 6 \\\\ 0 & 18 & 45 & 17 \\end{pmatrix} \\equiv \n",
    "\\begin{pmatrix} 1 & 1 & 2 & 4 \\\\ 0 & 3 & 4 & 1 \\\\ 0 & 0 & 3 & 1 \\\\ 0 & 0 & 21 & 11 \\end{pmatrix} \\equiv \n",
    "\\begin{pmatrix} 1 & 1 & 2 & 4 \\\\ 0 & 3 & 4 & 1 \\\\ 0 & 0 & 3 & 1 \\\\ 0 & 0 & 0 & 4 \\end{pmatrix}\n",
    "$$\n",
    "\n",
    "Первый шаг дает коэффициенты ${m}_{i1} = (2, 3, 4)$. Второй шаг дает коэффициенты ${m}_{i2} = (5, 6)$. Третий шаг дает ${m}_{i3} = (7)$, поэтому L-матрица будет следующей:\n",
    "\n",
    "$$ L = \\begin{pmatrix} 1 & 0 & 0 & 0 \\\\ 2 & 1 & 0 & 0 \\\\ 3 & 5 & 1 & 0 \\\\ 4 & 6 & 7 & 1 \\end{pmatrix} $$"
   ]
  },
  {
   "cell_type": "markdown",
   "metadata": {},
   "source": [
    "__3.__ Решить систему линейных уравнений методом $LU$-разложения\n",
    "\n",
    "$$\\begin{cases}\n",
    "2x_{1}+x_{2}+3x_{3}=1 \\\\\n",
    "11x_{1}+7x_{2}+5x_{3}=-6 \\\\\n",
    "9x_{1}+8x_{2}+4x_{3}=-5\n",
    "\\end{cases}$$"
   ]
  },
  {
   "cell_type": "markdown",
   "metadata": {},
   "source": [
    "Выпишем основную матрицу СЛАУ:\n",
    "\n",
    "$$ A = \\begin{pmatrix} 2 & 1 & 3 \\\\ 11 & 7 & 5 \\\\ 9 & 8 & 4 \\end{pmatrix} $$\n",
    "\n",
    "Найдем ее LU-разложение:\n",
    "$$ \\begin{pmatrix} 2 & 1 & 3 \\\\ 11 & 7 & 5 \\\\ 9 & 8 & 4 \\end{pmatrix} \\equiv \n",
    "\\begin{pmatrix} 2 & 1 & 3 \\\\ 0 & 1.5 & -11.5 \\\\ 0 & 3.5 & -9.5 \\end{pmatrix} \\equiv\n",
    "\\begin{pmatrix} 2 & 1 & 3 \\\\ 0 & 1.5 & -11.5 \\\\ 0 & 0 & 52/3 \\end{pmatrix} = U $$\n",
    "\n",
    "$$ L = \\begin{pmatrix} 1 & 0 & 0 \\\\ 5.5 & 1 & 0 \\\\ 4.5 & 7/3 & 1 \\end{pmatrix} $$\n",
    "\n",
    "$$ L y = b \\implies y_1 = 1, y_2 = -5.5 y_1 - 6 = -11.5, y_3 = -4.5 y_1 -7/3 y_2 - 5 = 52/3 $$\n",
    "\n",
    "$$ U x = y \\implies x_3 = 1, x_2 = (11.5 x_3 - 11.5)/1.5 = 0, x_1 = (-x_2 - 3 x_3 + 1) / 2 = -1 $$\n",
    "\n",
    "Значит,\n",
    "$$ \\vec{x} = (-1, 0, 1) $$"
   ]
  },
  {
   "cell_type": "markdown",
   "metadata": {},
   "source": [
    "__4.__ Решить систему линейных уравнений методом Холецкого\n",
    "\n",
    "$$\\begin{cases}\n",
    "81x_{1}-45x_{2}+45x_{3}=531 \\\\\n",
    "-45x_{1}+50x_{2}-15x_{3}=-460 \\\\\n",
    "45x_{1}-15x_{2}+38x_{3}=193\n",
    "\\end{cases}$$"
   ]
  },
  {
   "cell_type": "markdown",
   "metadata": {},
   "source": [
    "$$ {l}_{11} = \\sqrt{{a}_{11}} = \\sqrt{81} = 9 $$\n",
    "\n",
    "$$ {l}_{21} = {a}_{21} / {l}_{11} = -45/9 = -5 $$\n",
    "\n",
    "$$ {l}_{31} = {a}_{31} / {l}_{11} = 45/9 = 5 $$\n",
    "\n",
    "$$ {l}_{22} = \\sqrt{{a}_{22} - {l}_{21}^2} = \\sqrt{50 - 25} = 5 $$\n",
    "\n",
    "$$ {l}_{32} = \\frac{{a}_{32} - {l}_{31} {l}_{21}}{{l}_{22}} = \\frac{-15 + 5 \\cdot 5}{5} = 2 $$\n",
    "\n",
    "$$ {l}_{33} = \\sqrt{{a}_{33} - {l}_{31}^2 - {l}_{32}^2} = \\sqrt{38 - 25 - 4} = 3 $$\n",
    "\n",
    "Таким образом, L-матрица равна\n",
    "\n",
    "$$ L = \\begin{pmatrix} 9 & 0 & 0 \\\\ -5 & 5 & 0 \\\\ 5 & 2 & 3 \\end{pmatrix} $$\n",
    "\n",
    "а ее транспонированная версия\n",
    "\n",
    "$$ L^T = \\begin{pmatrix} 9 & -5 & 5 \\\\ 0 & 5 & 2 \\\\ 0 & 0 & 3 \\end{pmatrix} $$\n",
    "\n",
    "Решим систему $L y = b$\n",
    "\n",
    "$$y_1 = 531 / 9 = 59 $$\n",
    "\n",
    "$$y_2 = (5 y_1 - 460) / 5 = -33 $$\n",
    "\n",
    "$$y_3 = (-5 y_1 - 2 y_2 + 193) / 3 = -12 $$\n",
    "\n",
    "Решим систему $L^T x = y$\n",
    "\n",
    "$$ x_3 = y_3 / 3 = -12 / 3 = -4 $$\n",
    "\n",
    "$$ x_2 = (-2 x_3 - 33 ) / 5 = -25 / 5 = -5 $$\n",
    "\n",
    "$$ x_1 = (5 x_2 - 5 x_3 + 59 ) / 9 = 54 / 9 = 6 $$\n",
    "\n",
    "Таким образом $$ \\vec{x} = (6, -5, -4) $$"
   ]
  },
  {
   "cell_type": "markdown",
   "metadata": {},
   "source": [
    "__5*.__ Написать на Python программу с реализацией одного из изученных алгоритмов решения СЛАУ."
   ]
  },
  {
   "cell_type": "code",
   "execution_count": 143,
   "metadata": {},
   "outputs": [],
   "source": [
    "import numpy as np\n",
    "np.set_printoptions(suppress=True)\n",
    "\n",
    "def lu_solver(A, b):\n",
    "    assert A.shape[0] == A.shape[1]\n",
    "    assert A.shape[1] == b.shape[0]\n",
    "    imax = np.argmax(np.abs(A[:, 0]))\n",
    "    if imax > 0:\n",
    "        tmp = A[0, :].copy()\n",
    "        A[0, :] = A[imax, :]\n",
    "        A[imax, :] = tmp.copy()\n",
    "        tmp = b[0]\n",
    "        b[0] = b[imax]\n",
    "        b[imax] = tmp\n",
    "    assert A[0][0] != 0\n",
    "    L = np.eye(A.shape[0], dtype = 'double')\n",
    "    U = A.astype('double')\n",
    "    for j in range(A.shape[0]):\n",
    "        for i in range(j + 1, A.shape[0]):\n",
    "            L[i][j] = U[i][j] / U[j][j]\n",
    "            for k in range(A.shape[1]):\n",
    "                U[i][k] = U[i][k] - U[j][k] * L[i][j]\n",
    "    # Ly = b\n",
    "    y = np.zeros(b.shape)\n",
    "    for i in range(A.shape[0]):\n",
    "        y[i] = b[i] - np.dot(L[i][0:i], y[0:i])\n",
    "    # Ux = y\n",
    "    x = np.zeros(b.shape)\n",
    "    for i in range(A.shape[0] - 1, -1, -1):\n",
    "        x[i] = (y[i] - np.dot(U[i][i + 1:], x[i + 1:])) / U[i][i]\n",
    "    \n",
    "    return [x, L, U]\n",
    "\n",
    "A = np.array([[2, 1, 3], [11, 7, 5], [9, 8, 4]])\n",
    "b = np.array([1, -6, -5])\n",
    "solution = lu_solver(A, b)\n",
    "\n",
    "x, L, U = solution"
   ]
  },
  {
   "cell_type": "code",
   "execution_count": 144,
   "metadata": {},
   "outputs": [
    {
     "name": "stdout",
     "output_type": "stream",
     "text": [
      "[[11  7  5]\n",
      " [ 2  1  3]\n",
      " [ 9  8  4]]\n"
     ]
    }
   ],
   "source": [
    "print(A)"
   ]
  },
  {
   "cell_type": "code",
   "execution_count": 145,
   "metadata": {},
   "outputs": [
    {
     "name": "stdout",
     "output_type": "stream",
     "text": [
      "Решение СЛАУ: x = \n",
      "[-1. -0.  1.]\n"
     ]
    }
   ],
   "source": [
    "print('Решение СЛАУ: x = ')\n",
    "print(x)"
   ]
  },
  {
   "cell_type": "code",
   "execution_count": 146,
   "metadata": {},
   "outputs": [
    {
     "name": "stdout",
     "output_type": "stream",
     "text": [
      "L = \n",
      "[[ 1.          0.          0.        ]\n",
      " [ 0.18181818  1.          0.        ]\n",
      " [ 0.81818182 -8.33333333  1.        ]]\n"
     ]
    }
   ],
   "source": [
    "print('L = ')\n",
    "print(L)"
   ]
  },
  {
   "cell_type": "code",
   "execution_count": 147,
   "metadata": {},
   "outputs": [
    {
     "name": "stdout",
     "output_type": "stream",
     "text": [
      "U = \n",
      "[[11.          7.          5.        ]\n",
      " [ 0.         -0.27272727  2.09090909]\n",
      " [ 0.         -0.         17.33333333]]\n"
     ]
    }
   ],
   "source": [
    "print('U = ')\n",
    "print(U)"
   ]
  },
  {
   "cell_type": "code",
   "execution_count": 148,
   "metadata": {},
   "outputs": [
    {
     "name": "stdout",
     "output_type": "stream",
     "text": [
      "L2 error test\n",
      "0.0\n"
     ]
    }
   ],
   "source": [
    "print('L2 error test')\n",
    "error = (A.dot(x) - b)\n",
    "l2 = np.sqrt(error.dot(np.conj(error)))\n",
    "print(l2)"
   ]
  }
 ],
 "metadata": {
  "kernelspec": {
   "display_name": "Python 3",
   "language": "python",
   "name": "python3"
  },
  "language_info": {
   "codemirror_mode": {
    "name": "ipython",
    "version": 3
   },
   "file_extension": ".py",
   "mimetype": "text/x-python",
   "name": "python",
   "nbconvert_exporter": "python",
   "pygments_lexer": "ipython3",
   "version": "3.6.8"
  }
 },
 "nbformat": 4,
 "nbformat_minor": 2
}
